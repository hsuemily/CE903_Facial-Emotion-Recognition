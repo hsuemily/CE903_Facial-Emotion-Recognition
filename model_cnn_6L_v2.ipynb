{
  "nbformat": 4,
  "nbformat_minor": 0,
  "metadata": {
    "colab": {
      "name": "model_cnn_5L.ipynb",
      "provenance": [],
      "collapsed_sections": []
    },
    "kernelspec": {
      "name": "python3",
      "display_name": "Python 3"
    },
    "accelerator": "GPU"
  },
  "cells": [
    {
      "cell_type": "markdown",
      "metadata": {
        "colab_type": "text",
        "id": "P2MbAQjr16Ag"
      },
      "source": [
        "## 1. Import Library"
      ]
    },
    {
      "cell_type": "code",
      "metadata": {
        "id": "t33NtR1jt1-h",
        "colab_type": "code",
        "colab": {
          "base_uri": "https://localhost:8080/",
          "height": 63
        },
        "outputId": "bac84157-7f38-4879-def3-3af74faf0f25"
      },
      "source": [
        "# Import library\n",
        "from __future__ import absolute_import, division, print_function, unicode_literals\n",
        "import tensorflow as tf\n",
        "from tensorflow.keras import datasets, layers, models\n",
        "import matplotlib.pyplot as plt\n",
        "import numpy as np\n",
        "import pandas as pd\n",
        "import seaborn as sns\n",
        "import os"
      ],
      "execution_count": 1,
      "outputs": [
        {
          "output_type": "display_data",
          "data": {
            "text/html": [
              "<p style=\"color: red;\">\n",
              "The default version of TensorFlow in Colab will soon switch to TensorFlow 2.x.<br>\n",
              "We recommend you <a href=\"https://www.tensorflow.org/guide/migrate\" target=\"_blank\">upgrade</a> now \n",
              "or ensure your notebook will continue to use TensorFlow 1.x via the <code>%tensorflow_version 1.x</code> magic:\n",
              "<a href=\"https://colab.research.google.com/notebooks/tensorflow_version.ipynb\" target=\"_blank\">more info</a>.</p>\n"
            ],
            "text/plain": [
              "<IPython.core.display.HTML object>"
            ]
          },
          "metadata": {
            "tags": []
          }
        }
      ]
    },
    {
      "cell_type": "markdown",
      "metadata": {
        "colab_type": "text",
        "id": "jLYX_J-qSlOE"
      },
      "source": [
        "## 2.  Load Dataset"
      ]
    },
    {
      "cell_type": "code",
      "metadata": {
        "colab_type": "code",
        "id": "xcrjJN8bzDfk",
        "outputId": "965df924-bcb6-4025-98dc-1cb0453c0ee4",
        "colab": {
          "base_uri": "https://localhost:8080/",
          "height": 70
        }
      },
      "source": [
        "# Load data\n",
        "# Colab library to upload files to notebook, Ref:https://medium.com/@saedhussain/google-colaboratory-and-kaggle-datasets-b57a83eb6ef8\n",
        "from google.colab import files\n",
        "\n",
        "# Install Kaggle library\n",
        "!pip install -q kaggle\n",
        "\n",
        "# Load data from Kaggle to Google Colab virtual machine\n",
        "os.environ['KAGGLE_USERNAME'] = \"emilyhsucr\" # username from the json file\n",
        "os.environ['KAGGLE_KEY'] = \"3b6aa5aa02b468c89e4cfac52a5d992e\" # key from the json file\n",
        "!kaggle datasets download -d ahmedmoorsy/facial-expression # api copied from kaggle"
      ],
      "execution_count": 2,
      "outputs": [
        {
          "output_type": "stream",
          "text": [
            "Downloading facial-expression.zip to /content\n",
            "100% 193M/193M [00:05<00:00, 43.9MB/s]\n",
            "100% 193M/193M [00:05<00:00, 37.2MB/s]\n"
          ],
          "name": "stdout"
        }
      ]
    },
    {
      "cell_type": "code",
      "metadata": {
        "colab_type": "code",
        "id": "9IDe5nNUGnUu",
        "colab": {}
      },
      "source": [
        "!unzip -q \"facial-expression.zip\""
      ],
      "execution_count": 0,
      "outputs": []
    },
    {
      "cell_type": "code",
      "metadata": {
        "colab_type": "code",
        "id": "fmK4BGDPo8M3",
        "outputId": "64afee4e-e9f7-4333-f993-06ba5d0563e7",
        "colab": {
          "base_uri": "https://localhost:8080/",
          "height": 199
        }
      },
      "source": [
        "#fer2013\n",
        "# Facial Expression Detection (CNN), Ref: https://www.kaggle.com/shawon10/facial-expression-detection-cnn\n",
        "filename = 'fer2013.csv'\n",
        "label_map = ['Anger', 'Disgust', 'Fear', 'Happy', 'Sad', 'Surprise', 'Neutral']\n",
        "names=['emotion','pixels','usage']\n",
        "\n",
        "fer2013 = pd.read_csv('fer2013.csv')\n",
        "im=fer2013['pixels']\n",
        "fer2013.head(5)"
      ],
      "execution_count": 4,
      "outputs": [
        {
          "output_type": "execute_result",
          "data": {
            "text/html": [
              "<div>\n",
              "<style scoped>\n",
              "    .dataframe tbody tr th:only-of-type {\n",
              "        vertical-align: middle;\n",
              "    }\n",
              "\n",
              "    .dataframe tbody tr th {\n",
              "        vertical-align: top;\n",
              "    }\n",
              "\n",
              "    .dataframe thead th {\n",
              "        text-align: right;\n",
              "    }\n",
              "</style>\n",
              "<table border=\"1\" class=\"dataframe\">\n",
              "  <thead>\n",
              "    <tr style=\"text-align: right;\">\n",
              "      <th></th>\n",
              "      <th>emotion</th>\n",
              "      <th>pixels</th>\n",
              "      <th>Usage</th>\n",
              "    </tr>\n",
              "  </thead>\n",
              "  <tbody>\n",
              "    <tr>\n",
              "      <th>0</th>\n",
              "      <td>0</td>\n",
              "      <td>70 80 82 72 58 58 60 63 54 58 60 48 89 115 121...</td>\n",
              "      <td>Training</td>\n",
              "    </tr>\n",
              "    <tr>\n",
              "      <th>1</th>\n",
              "      <td>0</td>\n",
              "      <td>151 150 147 155 148 133 111 140 170 174 182 15...</td>\n",
              "      <td>Training</td>\n",
              "    </tr>\n",
              "    <tr>\n",
              "      <th>2</th>\n",
              "      <td>2</td>\n",
              "      <td>231 212 156 164 174 138 161 173 182 200 106 38...</td>\n",
              "      <td>Training</td>\n",
              "    </tr>\n",
              "    <tr>\n",
              "      <th>3</th>\n",
              "      <td>4</td>\n",
              "      <td>24 32 36 30 32 23 19 20 30 41 21 22 32 34 21 1...</td>\n",
              "      <td>Training</td>\n",
              "    </tr>\n",
              "    <tr>\n",
              "      <th>4</th>\n",
              "      <td>6</td>\n",
              "      <td>4 0 0 0 0 0 0 0 0 0 0 0 3 15 23 28 48 50 58 84...</td>\n",
              "      <td>Training</td>\n",
              "    </tr>\n",
              "  </tbody>\n",
              "</table>\n",
              "</div>"
            ],
            "text/plain": [
              "   emotion                                             pixels     Usage\n",
              "0        0  70 80 82 72 58 58 60 63 54 58 60 48 89 115 121...  Training\n",
              "1        0  151 150 147 155 148 133 111 140 170 174 182 15...  Training\n",
              "2        2  231 212 156 164 174 138 161 173 182 200 106 38...  Training\n",
              "3        4  24 32 36 30 32 23 19 20 30 41 21 22 32 34 21 1...  Training\n",
              "4        6  4 0 0 0 0 0 0 0 0 0 0 0 3 15 23 28 48 50 58 84...  Training"
            ]
          },
          "metadata": {
            "tags": []
          },
          "execution_count": 4
        }
      ]
    },
    {
      "cell_type": "code",
      "metadata": {
        "colab_type": "code",
        "id": "yAv9Eh7FMD8w",
        "colab": {}
      },
      "source": [
        "def getData(filename):\n",
        "    # images are 48x48\n",
        "    # N = 35887\n",
        "    Y = []\n",
        "    X = []\n",
        "    first = True\n",
        "    for line in open(filename):\n",
        "        if first:\n",
        "            first = False\n",
        "        else:\n",
        "            row = line.split(',')\n",
        "            Y.append(int(row[0]))\n",
        "            X.append([int(p) for p in row[1].split()])\n",
        "\n",
        "    X, Y = np.array(X) / 255.0, np.array(Y)\n",
        "    return X, Y"
      ],
      "execution_count": 0,
      "outputs": []
    },
    {
      "cell_type": "code",
      "metadata": {
        "colab_type": "code",
        "id": "9L9-XCS-MEIE",
        "outputId": "86affd4d-db57-4a19-ac74-fb5cdf9d320d",
        "colab": {
          "base_uri": "https://localhost:8080/",
          "height": 35
        }
      },
      "source": [
        "X, Y = getData(filename)\n",
        "num_class = len(set(Y))\n",
        "print(num_class)"
      ],
      "execution_count": 6,
      "outputs": [
        {
          "output_type": "stream",
          "text": [
            "7\n"
          ],
          "name": "stdout"
        }
      ]
    },
    {
      "cell_type": "code",
      "metadata": {
        "colab_type": "code",
        "id": "Ze6XyhDxMESR",
        "colab": {}
      },
      "source": [
        "# keras with tensorflow backend\n",
        "N, D = X.shape\n",
        "X = X.reshape(N, 48, 48, 1)"
      ],
      "execution_count": 0,
      "outputs": []
    },
    {
      "cell_type": "code",
      "metadata": {
        "colab_type": "code",
        "id": "BvN2z4-tK2TZ",
        "colab": {}
      },
      "source": [
        "from sklearn.model_selection import train_test_split\n",
        "\n",
        "X_train, X_test, y_train, y_test = train_test_split(X, Y, test_size=0.1, random_state=0)\n",
        "y_train = (np.arange(num_class) == y_train[:, None]).astype(np.float32)\n",
        "y_test = (np.arange(num_class) == y_test[:, None]).astype(np.float32)"
      ],
      "execution_count": 0,
      "outputs": []
    },
    {
      "cell_type": "markdown",
      "metadata": {
        "colab_type": "text",
        "id": "jEIQxqqP2P9B"
      },
      "source": [
        "## 3. Build the network"
      ]
    },
    {
      "cell_type": "code",
      "metadata": {
        "colab_type": "code",
        "id": "ZrFLpUxcQVyg",
        "outputId": "6a3609de-51d0-4991-e861-38600cb10d80",
        "colab": {
          "base_uri": "https://localhost:8080/",
          "height": 35
        }
      },
      "source": [
        "from keras.models import Sequential\n",
        "from keras.layers import Dense , Activation , Dropout ,Flatten\n",
        "from keras.layers.convolutional import Conv2D\n",
        "from keras.layers.convolutional import MaxPooling2D\n",
        "from keras.metrics import categorical_accuracy\n",
        "from keras.models import model_from_json\n",
        "from keras.callbacks import ModelCheckpoint\n",
        "from keras.optimizers import *\n",
        "from keras.layers.normalization import BatchNormalization"
      ],
      "execution_count": 9,
      "outputs": [
        {
          "output_type": "stream",
          "text": [
            "Using TensorFlow backend.\n"
          ],
          "name": "stderr"
        }
      ]
    },
    {
      "cell_type": "code",
      "metadata": {
        "colab_type": "code",
        "id": "_FNb1l5pQXGZ",
        "outputId": "bdd2541c-18f0-495c-e2a8-eec249d2b4c1",
        "colab": {
          "base_uri": "https://localhost:8080/",
          "height": 1000
        }
      },
      "source": [
        "def my_model():\n",
        "    model = Sequential()\n",
        "    input_shape = (48,48,1)\n",
        "    \n",
        "    # 1st layer\n",
        "    model.add(Conv2D(64, (3, 3), input_shape=input_shape,activation='relu', padding='same'))\n",
        "    \n",
        "    # 2nd layer\n",
        "    model.add(Conv2D(128, (3, 3), activation='relu', padding='same'))\n",
        "    model.add(BatchNormalization())\n",
        "    model.add(MaxPooling2D(pool_size=(2, 2)))\n",
        "    model.add(Dropout(0.4))\n",
        "    \n",
        "    # 3rd layer\n",
        "    model.add(Conv2D(256, (3, 3), activation='relu', padding='same'))\n",
        "    model.add(BatchNormalization())\n",
        "    model.add(MaxPooling2D(pool_size=(2, 2)))\n",
        "    model.add(Dropout(0.4))\n",
        "\n",
        "    # # 4th layer\n",
        "    # model.add(Conv2D(524, (3, 3), activation='relu', padding='same'))\n",
        "    # model.add(BatchNormalization())\n",
        "    # model.add(MaxPooling2D(pool_size=(2, 2)))\n",
        "\n",
        "    # 5th layer\n",
        "    model.add(Conv2D(256, (3, 3), activation='relu', padding='same'))\n",
        "    model.add(BatchNormalization())\n",
        "    model.add(MaxPooling2D(pool_size=(2, 2)))\n",
        "    model.add(Dropout(0.4))\n",
        "\n",
        "    # 6th layer\n",
        "    model.add(Conv2D(128, (3, 3), activation='relu', padding='same'))\n",
        "    model.add(BatchNormalization())\n",
        "    model.add(MaxPooling2D(pool_size=(2, 2)))\n",
        "    model.add(Dropout(0.4))\n",
        "\n",
        "    \n",
        "    # 7th layer\n",
        "    model.add(Flatten())\n",
        "    model.add(Dense(64))\n",
        "    model.add(BatchNormalization())\n",
        "    model.add(Activation('relu'))\n",
        "    model.add(Dropout(0.4))\n",
        "    model.add(Dense(7))\n",
        "    model.add(Activation('softmax'))\n",
        "    \n",
        "    model.compile(loss='categorical_crossentropy', metrics=['accuracy'],optimizer='adam')\n",
        "    # UNCOMMENT THIS TO VIEW THE ARCHITECTURE\n",
        "    #model.summary()\n",
        "    \n",
        "    return model\n",
        "model=my_model()\n",
        "model.summary()"
      ],
      "execution_count": 10,
      "outputs": [
        {
          "output_type": "stream",
          "text": [
            "WARNING:tensorflow:From /usr/local/lib/python3.6/dist-packages/keras/backend/tensorflow_backend.py:66: The name tf.get_default_graph is deprecated. Please use tf.compat.v1.get_default_graph instead.\n",
            "\n",
            "WARNING:tensorflow:From /usr/local/lib/python3.6/dist-packages/keras/backend/tensorflow_backend.py:541: The name tf.placeholder is deprecated. Please use tf.compat.v1.placeholder instead.\n",
            "\n",
            "WARNING:tensorflow:From /usr/local/lib/python3.6/dist-packages/keras/backend/tensorflow_backend.py:4432: The name tf.random_uniform is deprecated. Please use tf.random.uniform instead.\n",
            "\n",
            "WARNING:tensorflow:From /usr/local/lib/python3.6/dist-packages/keras/backend/tensorflow_backend.py:190: The name tf.get_default_session is deprecated. Please use tf.compat.v1.get_default_session instead.\n",
            "\n",
            "WARNING:tensorflow:From /usr/local/lib/python3.6/dist-packages/keras/backend/tensorflow_backend.py:197: The name tf.ConfigProto is deprecated. Please use tf.compat.v1.ConfigProto instead.\n",
            "\n",
            "WARNING:tensorflow:From /usr/local/lib/python3.6/dist-packages/keras/backend/tensorflow_backend.py:203: The name tf.Session is deprecated. Please use tf.compat.v1.Session instead.\n",
            "\n",
            "WARNING:tensorflow:From /usr/local/lib/python3.6/dist-packages/keras/backend/tensorflow_backend.py:207: The name tf.global_variables is deprecated. Please use tf.compat.v1.global_variables instead.\n",
            "\n",
            "WARNING:tensorflow:From /usr/local/lib/python3.6/dist-packages/keras/backend/tensorflow_backend.py:216: The name tf.is_variable_initialized is deprecated. Please use tf.compat.v1.is_variable_initialized instead.\n",
            "\n",
            "WARNING:tensorflow:From /usr/local/lib/python3.6/dist-packages/keras/backend/tensorflow_backend.py:223: The name tf.variables_initializer is deprecated. Please use tf.compat.v1.variables_initializer instead.\n",
            "\n",
            "WARNING:tensorflow:From /usr/local/lib/python3.6/dist-packages/keras/backend/tensorflow_backend.py:2041: The name tf.nn.fused_batch_norm is deprecated. Please use tf.compat.v1.nn.fused_batch_norm instead.\n",
            "\n",
            "WARNING:tensorflow:From /usr/local/lib/python3.6/dist-packages/keras/backend/tensorflow_backend.py:148: The name tf.placeholder_with_default is deprecated. Please use tf.compat.v1.placeholder_with_default instead.\n",
            "\n",
            "WARNING:tensorflow:From /usr/local/lib/python3.6/dist-packages/keras/backend/tensorflow_backend.py:4267: The name tf.nn.max_pool is deprecated. Please use tf.nn.max_pool2d instead.\n",
            "\n",
            "WARNING:tensorflow:From /usr/local/lib/python3.6/dist-packages/keras/backend/tensorflow_backend.py:3733: calling dropout (from tensorflow.python.ops.nn_ops) with keep_prob is deprecated and will be removed in a future version.\n",
            "Instructions for updating:\n",
            "Please use `rate` instead of `keep_prob`. Rate should be set to `rate = 1 - keep_prob`.\n",
            "WARNING:tensorflow:From /usr/local/lib/python3.6/dist-packages/keras/optimizers.py:793: The name tf.train.Optimizer is deprecated. Please use tf.compat.v1.train.Optimizer instead.\n",
            "\n",
            "WARNING:tensorflow:From /usr/local/lib/python3.6/dist-packages/keras/backend/tensorflow_backend.py:3576: The name tf.log is deprecated. Please use tf.math.log instead.\n",
            "\n",
            "Model: \"sequential_1\"\n",
            "_________________________________________________________________\n",
            "Layer (type)                 Output Shape              Param #   \n",
            "=================================================================\n",
            "conv2d_1 (Conv2D)            (None, 48, 48, 64)        640       \n",
            "_________________________________________________________________\n",
            "conv2d_2 (Conv2D)            (None, 48, 48, 128)       73856     \n",
            "_________________________________________________________________\n",
            "batch_normalization_1 (Batch (None, 48, 48, 128)       512       \n",
            "_________________________________________________________________\n",
            "max_pooling2d_1 (MaxPooling2 (None, 24, 24, 128)       0         \n",
            "_________________________________________________________________\n",
            "dropout_1 (Dropout)          (None, 24, 24, 128)       0         \n",
            "_________________________________________________________________\n",
            "conv2d_3 (Conv2D)            (None, 24, 24, 256)       295168    \n",
            "_________________________________________________________________\n",
            "batch_normalization_2 (Batch (None, 24, 24, 256)       1024      \n",
            "_________________________________________________________________\n",
            "max_pooling2d_2 (MaxPooling2 (None, 12, 12, 256)       0         \n",
            "_________________________________________________________________\n",
            "dropout_2 (Dropout)          (None, 12, 12, 256)       0         \n",
            "_________________________________________________________________\n",
            "conv2d_4 (Conv2D)            (None, 12, 12, 256)       590080    \n",
            "_________________________________________________________________\n",
            "batch_normalization_3 (Batch (None, 12, 12, 256)       1024      \n",
            "_________________________________________________________________\n",
            "max_pooling2d_3 (MaxPooling2 (None, 6, 6, 256)         0         \n",
            "_________________________________________________________________\n",
            "dropout_3 (Dropout)          (None, 6, 6, 256)         0         \n",
            "_________________________________________________________________\n",
            "conv2d_5 (Conv2D)            (None, 6, 6, 128)         295040    \n",
            "_________________________________________________________________\n",
            "batch_normalization_4 (Batch (None, 6, 6, 128)         512       \n",
            "_________________________________________________________________\n",
            "max_pooling2d_4 (MaxPooling2 (None, 3, 3, 128)         0         \n",
            "_________________________________________________________________\n",
            "dropout_4 (Dropout)          (None, 3, 3, 128)         0         \n",
            "_________________________________________________________________\n",
            "flatten_1 (Flatten)          (None, 1152)              0         \n",
            "_________________________________________________________________\n",
            "dense_1 (Dense)              (None, 64)                73792     \n",
            "_________________________________________________________________\n",
            "batch_normalization_5 (Batch (None, 64)                256       \n",
            "_________________________________________________________________\n",
            "activation_1 (Activation)    (None, 64)                0         \n",
            "_________________________________________________________________\n",
            "dropout_5 (Dropout)          (None, 64)                0         \n",
            "_________________________________________________________________\n",
            "dense_2 (Dense)              (None, 7)                 455       \n",
            "_________________________________________________________________\n",
            "activation_2 (Activation)    (None, 7)                 0         \n",
            "=================================================================\n",
            "Total params: 1,332,359\n",
            "Trainable params: 1,330,695\n",
            "Non-trainable params: 1,664\n",
            "_________________________________________________________________\n"
          ],
          "name": "stdout"
        }
      ]
    },
    {
      "cell_type": "code",
      "metadata": {
        "colab_type": "code",
        "id": "xt3hE9WAQe_o",
        "outputId": "706b945e-58a2-4b0f-a557-f5b9907f46b9",
        "colab": {
          "base_uri": "https://localhost:8080/",
          "height": 1000
        }
      },
      "source": [
        "path_model='model_filter.h5' # save model at this location after each epoch\n",
        "K.tensorflow_backend.clear_session() # destroys the current graph and builds a new one\n",
        "model=my_model() # create the model\n",
        "K.set_value(model.optimizer.lr,1e-4) # set the learning rate\n",
        "# fit the model\n",
        "history =model.fit(x=X_train,     \n",
        "            y=y_train, \n",
        "            batch_size=64, \n",
        "            epochs=100, \n",
        "            verbose=1, \n",
        "            validation_data=(X_test,y_test),\n",
        "            shuffle=True,\n",
        "            callbacks=[\n",
        "                ModelCheckpoint(filepath=path_model),\n",
        "            ]\n",
        "            )"
      ],
      "execution_count": 12,
      "outputs": [
        {
          "output_type": "stream",
          "text": [
            "Train on 32298 samples, validate on 3589 samples\n",
            "Epoch 1/100\n",
            "32298/32298 [==============================] - 26s 805us/step - loss: 2.2476 - acc: 0.1841 - val_loss: 1.8263 - val_acc: 0.2608\n",
            "Epoch 2/100\n",
            "32298/32298 [==============================] - 25s 775us/step - loss: 1.9599 - acc: 0.2313 - val_loss: 1.7988 - val_acc: 0.2775\n",
            "Epoch 3/100\n",
            "32298/32298 [==============================] - 25s 774us/step - loss: 1.8706 - acc: 0.2558 - val_loss: 1.7506 - val_acc: 0.2948\n",
            "Epoch 4/100\n",
            "32298/32298 [==============================] - 25s 775us/step - loss: 1.7869 - acc: 0.2929 - val_loss: 1.8375 - val_acc: 0.3070\n",
            "Epoch 5/100\n",
            "32298/32298 [==============================] - 25s 775us/step - loss: 1.7040 - acc: 0.3365 - val_loss: 1.5874 - val_acc: 0.3945\n",
            "Epoch 6/100\n",
            "32298/32298 [==============================] - 25s 775us/step - loss: 1.6216 - acc: 0.3680 - val_loss: 1.5488 - val_acc: 0.4182\n",
            "Epoch 7/100\n",
            "32298/32298 [==============================] - 25s 774us/step - loss: 1.5532 - acc: 0.3975 - val_loss: 1.5996 - val_acc: 0.4110\n",
            "Epoch 8/100\n",
            "32298/32298 [==============================] - 25s 776us/step - loss: 1.4929 - acc: 0.4264 - val_loss: 1.3690 - val_acc: 0.4787\n",
            "Epoch 9/100\n",
            "32298/32298 [==============================] - 25s 780us/step - loss: 1.4427 - acc: 0.4445 - val_loss: 1.3417 - val_acc: 0.4990\n",
            "Epoch 10/100\n",
            "32298/32298 [==============================] - 25s 778us/step - loss: 1.3993 - acc: 0.4598 - val_loss: 1.2756 - val_acc: 0.5171\n",
            "Epoch 11/100\n",
            "32298/32298 [==============================] - 25s 774us/step - loss: 1.3653 - acc: 0.4773 - val_loss: 1.2413 - val_acc: 0.5266\n",
            "Epoch 12/100\n",
            "32298/32298 [==============================] - 25s 773us/step - loss: 1.3322 - acc: 0.4878 - val_loss: 1.2357 - val_acc: 0.5274\n",
            "Epoch 13/100\n",
            "32298/32298 [==============================] - 25s 774us/step - loss: 1.3124 - acc: 0.4993 - val_loss: 1.2056 - val_acc: 0.5375\n",
            "Epoch 14/100\n",
            "32298/32298 [==============================] - 25s 775us/step - loss: 1.2831 - acc: 0.5130 - val_loss: 1.1972 - val_acc: 0.5369\n",
            "Epoch 15/100\n",
            "32298/32298 [==============================] - 25s 775us/step - loss: 1.2600 - acc: 0.5208 - val_loss: 1.1557 - val_acc: 0.5553\n",
            "Epoch 16/100\n",
            "32298/32298 [==============================] - 25s 774us/step - loss: 1.2370 - acc: 0.5306 - val_loss: 1.1495 - val_acc: 0.5531\n",
            "Epoch 17/100\n",
            "32298/32298 [==============================] - 25s 773us/step - loss: 1.2165 - acc: 0.5368 - val_loss: 1.1511 - val_acc: 0.5531\n",
            "Epoch 18/100\n",
            "32298/32298 [==============================] - 25s 774us/step - loss: 1.2041 - acc: 0.5428 - val_loss: 1.1387 - val_acc: 0.5589\n",
            "Epoch 19/100\n",
            "32298/32298 [==============================] - 25s 775us/step - loss: 1.1814 - acc: 0.5503 - val_loss: 1.1112 - val_acc: 0.5687\n",
            "Epoch 20/100\n",
            "32298/32298 [==============================] - 25s 775us/step - loss: 1.1681 - acc: 0.5599 - val_loss: 1.1277 - val_acc: 0.5587\n",
            "Epoch 21/100\n",
            "32298/32298 [==============================] - 25s 777us/step - loss: 1.1505 - acc: 0.5663 - val_loss: 1.0874 - val_acc: 0.5740\n",
            "Epoch 22/100\n",
            "32298/32298 [==============================] - 25s 778us/step - loss: 1.1426 - acc: 0.5711 - val_loss: 1.1006 - val_acc: 0.5726\n",
            "Epoch 23/100\n",
            "32298/32298 [==============================] - 25s 775us/step - loss: 1.1277 - acc: 0.5753 - val_loss: 1.0707 - val_acc: 0.5871\n",
            "Epoch 24/100\n",
            "32298/32298 [==============================] - 25s 775us/step - loss: 1.1115 - acc: 0.5791 - val_loss: 1.0651 - val_acc: 0.5896\n",
            "Epoch 25/100\n",
            "32298/32298 [==============================] - 25s 777us/step - loss: 1.1076 - acc: 0.5837 - val_loss: 1.0534 - val_acc: 0.5926\n",
            "Epoch 26/100\n",
            "32298/32298 [==============================] - 25s 774us/step - loss: 1.0892 - acc: 0.5921 - val_loss: 1.0559 - val_acc: 0.5952\n",
            "Epoch 27/100\n",
            "32298/32298 [==============================] - 25s 774us/step - loss: 1.0760 - acc: 0.5924 - val_loss: 1.0270 - val_acc: 0.6027\n",
            "Epoch 28/100\n",
            "32298/32298 [==============================] - 25s 774us/step - loss: 1.0635 - acc: 0.6014 - val_loss: 1.0508 - val_acc: 0.5968\n",
            "Epoch 29/100\n",
            "32298/32298 [==============================] - 25s 774us/step - loss: 1.0498 - acc: 0.6055 - val_loss: 1.0596 - val_acc: 0.5977\n",
            "Epoch 30/100\n",
            "32298/32298 [==============================] - 25s 774us/step - loss: 1.0492 - acc: 0.6071 - val_loss: 1.0014 - val_acc: 0.6191\n",
            "Epoch 31/100\n",
            "32298/32298 [==============================] - 25s 772us/step - loss: 1.0381 - acc: 0.6093 - val_loss: 1.0069 - val_acc: 0.6082\n",
            "Epoch 32/100\n",
            "32298/32298 [==============================] - 25s 774us/step - loss: 1.0301 - acc: 0.6143 - val_loss: 1.0132 - val_acc: 0.6108\n",
            "Epoch 33/100\n",
            "32298/32298 [==============================] - 25s 772us/step - loss: 1.0254 - acc: 0.6173 - val_loss: 1.0066 - val_acc: 0.6160\n",
            "Epoch 34/100\n",
            "32298/32298 [==============================] - 25s 779us/step - loss: 1.0095 - acc: 0.6230 - val_loss: 0.9724 - val_acc: 0.6280\n",
            "Epoch 35/100\n",
            "32298/32298 [==============================] - 25s 776us/step - loss: 1.0035 - acc: 0.6230 - val_loss: 0.9855 - val_acc: 0.6239\n",
            "Epoch 36/100\n",
            "32298/32298 [==============================] - 25s 774us/step - loss: 0.9936 - acc: 0.6277 - val_loss: 0.9942 - val_acc: 0.6216\n",
            "Epoch 37/100\n",
            "32298/32298 [==============================] - 25s 775us/step - loss: 0.9766 - acc: 0.6352 - val_loss: 0.9894 - val_acc: 0.6250\n",
            "Epoch 38/100\n",
            "32298/32298 [==============================] - 25s 773us/step - loss: 0.9726 - acc: 0.6360 - val_loss: 1.0059 - val_acc: 0.6213\n",
            "Epoch 39/100\n",
            "32298/32298 [==============================] - 25s 774us/step - loss: 0.9652 - acc: 0.6405 - val_loss: 0.9819 - val_acc: 0.6344\n",
            "Epoch 40/100\n",
            "32298/32298 [==============================] - 25s 773us/step - loss: 0.9582 - acc: 0.6404 - val_loss: 0.9756 - val_acc: 0.6317\n",
            "Epoch 41/100\n",
            "32298/32298 [==============================] - 25s 774us/step - loss: 0.9450 - acc: 0.6508 - val_loss: 0.9712 - val_acc: 0.6303\n",
            "Epoch 42/100\n",
            "32298/32298 [==============================] - 25s 774us/step - loss: 0.9456 - acc: 0.6472 - val_loss: 0.9893 - val_acc: 0.6305\n",
            "Epoch 43/100\n",
            "32298/32298 [==============================] - 25s 773us/step - loss: 0.9336 - acc: 0.6502 - val_loss: 0.9896 - val_acc: 0.6283\n",
            "Epoch 44/100\n",
            "32298/32298 [==============================] - 25s 775us/step - loss: 0.9264 - acc: 0.6540 - val_loss: 0.9875 - val_acc: 0.6333\n",
            "Epoch 45/100\n",
            "32298/32298 [==============================] - 25s 772us/step - loss: 0.9206 - acc: 0.6588 - val_loss: 0.9898 - val_acc: 0.6328\n",
            "Epoch 46/100\n",
            "32298/32298 [==============================] - 25s 776us/step - loss: 0.9115 - acc: 0.6632 - val_loss: 0.9578 - val_acc: 0.6372\n",
            "Epoch 47/100\n",
            "32298/32298 [==============================] - 25s 773us/step - loss: 0.9018 - acc: 0.6634 - val_loss: 0.9475 - val_acc: 0.6464\n",
            "Epoch 48/100\n",
            "32298/32298 [==============================] - 25s 773us/step - loss: 0.8939 - acc: 0.6674 - val_loss: 0.9703 - val_acc: 0.6383\n",
            "Epoch 49/100\n",
            "32298/32298 [==============================] - 25s 773us/step - loss: 0.8915 - acc: 0.6681 - val_loss: 0.9960 - val_acc: 0.6286\n",
            "Epoch 50/100\n",
            "32298/32298 [==============================] - 25s 773us/step - loss: 0.8873 - acc: 0.6708 - val_loss: 0.9417 - val_acc: 0.6528\n",
            "Epoch 51/100\n",
            "32298/32298 [==============================] - 25s 774us/step - loss: 0.8809 - acc: 0.6722 - val_loss: 0.9611 - val_acc: 0.6450\n",
            "Epoch 52/100\n",
            "32298/32298 [==============================] - 25s 772us/step - loss: 0.8702 - acc: 0.6775 - val_loss: 0.9884 - val_acc: 0.6269\n",
            "Epoch 53/100\n",
            "32298/32298 [==============================] - 25s 773us/step - loss: 0.8677 - acc: 0.6779 - val_loss: 0.9437 - val_acc: 0.6525\n",
            "Epoch 54/100\n",
            "32298/32298 [==============================] - 25s 771us/step - loss: 0.8566 - acc: 0.6833 - val_loss: 0.9450 - val_acc: 0.6512\n",
            "Epoch 55/100\n",
            "32298/32298 [==============================] - 25s 772us/step - loss: 0.8568 - acc: 0.6820 - val_loss: 0.9576 - val_acc: 0.6517\n",
            "Epoch 56/100\n",
            "32298/32298 [==============================] - 25s 777us/step - loss: 0.8464 - acc: 0.6852 - val_loss: 0.9780 - val_acc: 0.6420\n",
            "Epoch 57/100\n",
            "32298/32298 [==============================] - 25s 773us/step - loss: 0.8351 - acc: 0.6935 - val_loss: 0.9702 - val_acc: 0.6439\n",
            "Epoch 58/100\n",
            "32298/32298 [==============================] - 25s 775us/step - loss: 0.8300 - acc: 0.6953 - val_loss: 0.9415 - val_acc: 0.6592\n",
            "Epoch 59/100\n",
            "32298/32298 [==============================] - 25s 776us/step - loss: 0.8264 - acc: 0.6939 - val_loss: 0.9570 - val_acc: 0.6492\n",
            "Epoch 60/100\n",
            "32298/32298 [==============================] - 25s 774us/step - loss: 0.8142 - acc: 0.6992 - val_loss: 0.9219 - val_acc: 0.6559\n",
            "Epoch 61/100\n",
            "32298/32298 [==============================] - 25s 773us/step - loss: 0.8157 - acc: 0.6969 - val_loss: 0.9463 - val_acc: 0.6567\n",
            "Epoch 62/100\n",
            "32298/32298 [==============================] - 25s 771us/step - loss: 0.8035 - acc: 0.7009 - val_loss: 0.9618 - val_acc: 0.6459\n",
            "Epoch 63/100\n",
            "32298/32298 [==============================] - 25s 773us/step - loss: 0.7974 - acc: 0.7049 - val_loss: 0.9351 - val_acc: 0.6629\n",
            "Epoch 64/100\n",
            "32298/32298 [==============================] - 25s 772us/step - loss: 0.7971 - acc: 0.7081 - val_loss: 0.9421 - val_acc: 0.6620\n",
            "Epoch 65/100\n",
            "32298/32298 [==============================] - 25s 773us/step - loss: 0.7931 - acc: 0.7063 - val_loss: 0.9282 - val_acc: 0.6598\n",
            "Epoch 66/100\n",
            "32298/32298 [==============================] - 25s 774us/step - loss: 0.7860 - acc: 0.7099 - val_loss: 0.9799 - val_acc: 0.6434\n",
            "Epoch 67/100\n",
            "32298/32298 [==============================] - 25s 771us/step - loss: 0.7789 - acc: 0.7142 - val_loss: 0.9868 - val_acc: 0.6537\n",
            "Epoch 68/100\n",
            "32298/32298 [==============================] - 25s 773us/step - loss: 0.7774 - acc: 0.7131 - val_loss: 0.9578 - val_acc: 0.6539\n",
            "Epoch 69/100\n",
            "32298/32298 [==============================] - 25s 770us/step - loss: 0.7723 - acc: 0.7130 - val_loss: 0.9361 - val_acc: 0.6606\n",
            "Epoch 70/100\n",
            "32298/32298 [==============================] - 25s 773us/step - loss: 0.7638 - acc: 0.7139 - val_loss: 0.9283 - val_acc: 0.6670\n",
            "Epoch 71/100\n",
            "32298/32298 [==============================] - 25s 775us/step - loss: 0.7628 - acc: 0.7186 - val_loss: 0.9428 - val_acc: 0.6573\n",
            "Epoch 72/100\n",
            "32298/32298 [==============================] - 25s 772us/step - loss: 0.7590 - acc: 0.7217 - val_loss: 0.9341 - val_acc: 0.6659\n",
            "Epoch 73/100\n",
            "32298/32298 [==============================] - 25s 772us/step - loss: 0.7407 - acc: 0.7272 - val_loss: 0.9370 - val_acc: 0.6690\n",
            "Epoch 74/100\n",
            "32298/32298 [==============================] - 25s 771us/step - loss: 0.7469 - acc: 0.7243 - val_loss: 0.9554 - val_acc: 0.6584\n",
            "Epoch 75/100\n",
            "32298/32298 [==============================] - 25s 772us/step - loss: 0.7427 - acc: 0.7241 - val_loss: 0.9402 - val_acc: 0.6634\n",
            "Epoch 76/100\n",
            "32298/32298 [==============================] - 25s 772us/step - loss: 0.7300 - acc: 0.7290 - val_loss: 0.9374 - val_acc: 0.6617\n",
            "Epoch 77/100\n",
            "32298/32298 [==============================] - 25s 772us/step - loss: 0.7324 - acc: 0.7300 - val_loss: 0.9306 - val_acc: 0.6634\n",
            "Epoch 78/100\n",
            "32298/32298 [==============================] - 25s 772us/step - loss: 0.7230 - acc: 0.7320 - val_loss: 0.9385 - val_acc: 0.6645\n",
            "Epoch 79/100\n",
            "32298/32298 [==============================] - 25s 771us/step - loss: 0.7195 - acc: 0.7342 - val_loss: 0.9551 - val_acc: 0.6587\n",
            "Epoch 80/100\n",
            "32298/32298 [==============================] - 25s 774us/step - loss: 0.7163 - acc: 0.7365 - val_loss: 0.9226 - val_acc: 0.6737\n",
            "Epoch 81/100\n",
            "32298/32298 [==============================] - 25s 772us/step - loss: 0.7112 - acc: 0.7384 - val_loss: 0.9500 - val_acc: 0.6668\n",
            "Epoch 82/100\n",
            "32298/32298 [==============================] - 25s 773us/step - loss: 0.7021 - acc: 0.7426 - val_loss: 0.9481 - val_acc: 0.6623\n",
            "Epoch 83/100\n",
            "32298/32298 [==============================] - 25s 776us/step - loss: 0.6995 - acc: 0.7408 - val_loss: 0.9414 - val_acc: 0.6693\n",
            "Epoch 84/100\n",
            "32298/32298 [==============================] - 25s 773us/step - loss: 0.7004 - acc: 0.7443 - val_loss: 0.9725 - val_acc: 0.6659\n",
            "Epoch 85/100\n",
            "32298/32298 [==============================] - 25s 774us/step - loss: 0.6967 - acc: 0.7436 - val_loss: 0.9416 - val_acc: 0.6723\n",
            "Epoch 86/100\n",
            "32298/32298 [==============================] - 25s 774us/step - loss: 0.6897 - acc: 0.7456 - val_loss: 0.9268 - val_acc: 0.6715\n",
            "Epoch 87/100\n",
            "32298/32298 [==============================] - 25s 773us/step - loss: 0.6813 - acc: 0.7509 - val_loss: 0.9546 - val_acc: 0.6665\n",
            "Epoch 88/100\n",
            "32298/32298 [==============================] - 25s 772us/step - loss: 0.6838 - acc: 0.7478 - val_loss: 0.9295 - val_acc: 0.6709\n",
            "Epoch 89/100\n",
            "32298/32298 [==============================] - 25s 775us/step - loss: 0.6754 - acc: 0.7511 - val_loss: 0.9521 - val_acc: 0.6665\n",
            "Epoch 90/100\n",
            "32298/32298 [==============================] - 25s 773us/step - loss: 0.6700 - acc: 0.7552 - val_loss: 0.9552 - val_acc: 0.6615\n",
            "Epoch 91/100\n",
            "32298/32298 [==============================] - 25s 772us/step - loss: 0.6740 - acc: 0.7530 - val_loss: 0.9851 - val_acc: 0.6651\n",
            "Epoch 92/100\n",
            "32298/32298 [==============================] - 25s 774us/step - loss: 0.6680 - acc: 0.7548 - val_loss: 0.9573 - val_acc: 0.6701\n",
            "Epoch 93/100\n",
            "32298/32298 [==============================] - 25s 771us/step - loss: 0.6652 - acc: 0.7560 - val_loss: 0.9776 - val_acc: 0.6598\n",
            "Epoch 94/100\n",
            "32298/32298 [==============================] - 25s 772us/step - loss: 0.6621 - acc: 0.7561 - val_loss: 0.9520 - val_acc: 0.6746\n",
            "Epoch 95/100\n",
            "32298/32298 [==============================] - 25s 775us/step - loss: 0.6484 - acc: 0.7628 - val_loss: 0.9507 - val_acc: 0.6693\n",
            "Epoch 96/100\n",
            "32298/32298 [==============================] - 25s 778us/step - loss: 0.6463 - acc: 0.7631 - val_loss: 0.9477 - val_acc: 0.6712\n",
            "Epoch 97/100\n",
            "32298/32298 [==============================] - 25s 773us/step - loss: 0.6520 - acc: 0.7611 - val_loss: 0.9506 - val_acc: 0.6751\n",
            "Epoch 98/100\n",
            "32298/32298 [==============================] - 25s 773us/step - loss: 0.6441 - acc: 0.7642 - val_loss: 0.9417 - val_acc: 0.6643\n",
            "Epoch 99/100\n",
            "32298/32298 [==============================] - 25s 775us/step - loss: 0.6399 - acc: 0.7648 - val_loss: 0.9417 - val_acc: 0.6732\n",
            "Epoch 100/100\n",
            "32298/32298 [==============================] - 25s 773us/step - loss: 0.6373 - acc: 0.7657 - val_loss: 0.9371 - val_acc: 0.6762\n"
          ],
          "name": "stdout"
        }
      ]
    },
    {
      "cell_type": "code",
      "metadata": {
        "colab_type": "code",
        "id": "U50LJRYfOBCV",
        "outputId": "948e9c3f-b1f0-4061-f575-d4f61c18013d",
        "colab": {
          "base_uri": "https://localhost:8080/",
          "height": 444
        }
      },
      "source": [
        "''' Visualize the training/validation loss and training/validation accuracy'''\n",
        "from pylab import rcParams\n",
        "\n",
        "rcParams['figure.figsize'] = 10, 7\n",
        "\n",
        "loss = history.history.get('loss')\n",
        "val_loss = history.history.get('val_loss')\n",
        "\n",
        "acc = history.history.get('acc')\n",
        "val_acc = history.history.get('val_acc')\n",
        "    \n",
        "plt.figure(0)\n",
        "\n",
        "plt.subplot(121)\n",
        "\n",
        "plt.plot(range(len(loss)), loss, label='Training Loss')\n",
        "plt.plot(range(len(val_loss)), val_loss, label='Validation Loss')\n",
        "plt.legend(loc='upper left')\n",
        "plt.title('Loss')\n",
        "\n",
        "\n",
        "plt.subplot(122)\n",
        "plt.plot(range(len(acc)), acc, label='Training Accuracy')\n",
        "plt.plot(range(len(val_acc)), val_acc, label='Validation Accuracy')\n",
        "plt.legend(loc='upper left')\n",
        "plt.title('Accuracy')\n",
        "\n",
        "plt.show()"
      ],
      "execution_count": 13,
      "outputs": [
        {
          "output_type": "display_data",
          "data": {
            "image/png": "[encoded data removed]",
            "text/plain": [
              "<Figure size 720x504 with 2 Axes>"
            ]
          },
          "metadata": {
            "tags": []
          }
        }
      ]
    },
    {
      "cell_type": "code",
      "metadata": {
        "colab_type": "code",
        "id": "TLctYbV_UNn7",
        "colab": {}
      },
      "source": [
        "# Save model weight\n",
        "model.save_weights('model_weights_cnnLayer6-dropout04_lr1-e4_100.h5') # HDF5 file"
      ],
      "execution_count": 0,
      "outputs": []
    },
    {
      "cell_type": "code",
      "metadata": {
        "colab_type": "code",
        "id": "tNWQfBoyK25V",
        "colab": {}
      },
      "source": [
        "model.save('./model_cnnLayer6-dropout04_lr1-e4_100.t')"
      ],
      "execution_count": 0,
      "outputs": []
    },
    {
      "cell_type": "code",
      "metadata": {
        "id": "9gtHETVNvMXD",
        "colab_type": "code",
        "colab": {}
      },
      "source": [
        ""
      ],
      "execution_count": 0,
      "outputs": []
    }
  ]
}