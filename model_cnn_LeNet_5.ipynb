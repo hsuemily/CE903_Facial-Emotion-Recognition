{
  "nbformat": 4,
  "nbformat_minor": 0,
  "metadata": {
    "colab": {
      "name": "model_cnn_LeNet-5.ipynb",
      "provenance": [],
      "collapsed_sections": []
    },
    "kernelspec": {
      "name": "python3",
      "display_name": "Python 3"
    },
    "accelerator": "GPU"
  },
  "cells": [
    {
      "cell_type": "markdown",
      "metadata": {
        "colab_type": "text",
        "id": "P2MbAQjr16Ag"
      },
      "source": [
        "## 1. Import Library"
      ]
    },
    {
      "cell_type": "code",
      "metadata": {
        "id": "t33NtR1jt1-h",
        "colab_type": "code",
        "colab": {
          "base_uri": "https://localhost:8080/",
          "height": 63
        },
        "outputId": "c0cd9bc1-0fca-4bcd-a615-5adf6e876182"
      },
      "source": [
        "# Import library\n",
        "from __future__ import absolute_import, division, print_function, unicode_literals\n",
        "import tensorflow as tf\n",
        "from tensorflow.keras import datasets, layers, models\n",
        "import matplotlib.pyplot as plt\n",
        "import numpy as np\n",
        "import pandas as pd\n",
        "import seaborn as sns\n",
        "import os"
      ],
      "execution_count": 1,
      "outputs": [
        {
          "output_type": "display_data",
          "data": {
            "text/html": [
              "<p style=\"color: red;\">\n",
              "The default version of TensorFlow in Colab will soon switch to TensorFlow 2.x.<br>\n",
              "We recommend you <a href=\"https://www.tensorflow.org/guide/migrate\" target=\"_blank\">upgrade</a> now \n",
              "or ensure your notebook will continue to use TensorFlow 1.x via the <code>%tensorflow_version 1.x</code> magic:\n",
              "<a href=\"https://colab.research.google.com/notebooks/tensorflow_version.ipynb\" target=\"_blank\">more info</a>.</p>\n"
            ],
            "text/plain": [
              "<IPython.core.display.HTML object>"
            ]
          },
          "metadata": {
            "tags": []
          }
        }
      ]
    },
    {
      "cell_type": "markdown",
      "metadata": {
        "colab_type": "text",
        "id": "jLYX_J-qSlOE"
      },
      "source": [
        "## 2.  Load Dataset"
      ]
    },
    {
      "cell_type": "code",
      "metadata": {
        "colab_type": "code",
        "id": "xcrjJN8bzDfk",
        "outputId": "1a370c54-0a79-4359-abad-1f08a295486e",
        "colab": {
          "base_uri": "https://localhost:8080/",
          "height": 70
        }
      },
      "source": [
        "# Load data\n",
        "# Colab library to upload files to notebook, Ref:https://medium.com/@saedhussain/google-colaboratory-and-kaggle-datasets-b57a83eb6ef8\n",
        "from google.colab import files\n",
        "\n",
        "# Install Kaggle library\n",
        "!pip install -q kaggle\n",
        "\n",
        "# Load data from Kaggle to Google Colab virtual machine\n",
        "os.environ['KAGGLE_USERNAME'] = \"emilyhsucr\" # username from the json file\n",
        "os.environ['KAGGLE_KEY'] = \"3b6aa5aa02b468c89e4cfac52a5d992e\" # key from the json file\n",
        "!kaggle datasets download -d ahmedmoorsy/facial-expression # api copied from kaggle"
      ],
      "execution_count": 2,
      "outputs": [
        {
          "output_type": "stream",
          "text": [
            "Downloading facial-expression.zip to /content\n",
            " 96% 186M/193M [00:03<00:00, 54.8MB/s]\n",
            "100% 193M/193M [00:03<00:00, 57.5MB/s]\n"
          ],
          "name": "stdout"
        }
      ]
    },
    {
      "cell_type": "code",
      "metadata": {
        "colab_type": "code",
        "id": "9IDe5nNUGnUu",
        "colab": {}
      },
      "source": [
        "!unzip -q \"facial-expression.zip\""
      ],
      "execution_count": 0,
      "outputs": []
    },
    {
      "cell_type": "code",
      "metadata": {
        "colab_type": "code",
        "id": "fmK4BGDPo8M3",
        "outputId": "f292cb94-8be8-4580-826e-1bd2578e5eef",
        "colab": {
          "base_uri": "https://localhost:8080/",
          "height": 199
        }
      },
      "source": [
        "#fer2013\n",
        "# Facial Expression Detection (CNN), Ref: https://www.kaggle.com/shawon10/facial-expression-detection-cnn\n",
        "filename = 'fer2013.csv'\n",
        "label_map = ['Anger', 'Disgust', 'Fear', 'Happy', 'Sad', 'Surprise', 'Neutral']\n",
        "names=['emotion','pixels','usage']\n",
        "\n",
        "fer2013 = pd.read_csv('fer2013.csv')\n",
        "im=fer2013['pixels']\n",
        "fer2013.head(5)"
      ],
      "execution_count": 4,
      "outputs": [
        {
          "output_type": "execute_result",
          "data": {
            "text/html": [
              "<div>\n",
              "<style scoped>\n",
              "    .dataframe tbody tr th:only-of-type {\n",
              "        vertical-align: middle;\n",
              "    }\n",
              "\n",
              "    .dataframe tbody tr th {\n",
              "        vertical-align: top;\n",
              "    }\n",
              "\n",
              "    .dataframe thead th {\n",
              "        text-align: right;\n",
              "    }\n",
              "</style>\n",
              "<table border=\"1\" class=\"dataframe\">\n",
              "  <thead>\n",
              "    <tr style=\"text-align: right;\">\n",
              "      <th></th>\n",
              "      <th>emotion</th>\n",
              "      <th>pixels</th>\n",
              "      <th>Usage</th>\n",
              "    </tr>\n",
              "  </thead>\n",
              "  <tbody>\n",
              "    <tr>\n",
              "      <th>0</th>\n",
              "      <td>0</td>\n",
              "      <td>70 80 82 72 58 58 60 63 54 58 60 48 89 115 121...</td>\n",
              "      <td>Training</td>\n",
              "    </tr>\n",
              "    <tr>\n",
              "      <th>1</th>\n",
              "      <td>0</td>\n",
              "      <td>151 150 147 155 148 133 111 140 170 174 182 15...</td>\n",
              "      <td>Training</td>\n",
              "    </tr>\n",
              "    <tr>\n",
              "      <th>2</th>\n",
              "      <td>2</td>\n",
              "      <td>231 212 156 164 174 138 161 173 182 200 106 38...</td>\n",
              "      <td>Training</td>\n",
              "    </tr>\n",
              "    <tr>\n",
              "      <th>3</th>\n",
              "      <td>4</td>\n",
              "      <td>24 32 36 30 32 23 19 20 30 41 21 22 32 34 21 1...</td>\n",
              "      <td>Training</td>\n",
              "    </tr>\n",
              "    <tr>\n",
              "      <th>4</th>\n",
              "      <td>6</td>\n",
              "      <td>4 0 0 0 0 0 0 0 0 0 0 0 3 15 23 28 48 50 58 84...</td>\n",
              "      <td>Training</td>\n",
              "    </tr>\n",
              "  </tbody>\n",
              "</table>\n",
              "</div>"
            ],
            "text/plain": [
              "   emotion                                             pixels     Usage\n",
              "0        0  70 80 82 72 58 58 60 63 54 58 60 48 89 115 121...  Training\n",
              "1        0  151 150 147 155 148 133 111 140 170 174 182 15...  Training\n",
              "2        2  231 212 156 164 174 138 161 173 182 200 106 38...  Training\n",
              "3        4  24 32 36 30 32 23 19 20 30 41 21 22 32 34 21 1...  Training\n",
              "4        6  4 0 0 0 0 0 0 0 0 0 0 0 3 15 23 28 48 50 58 84...  Training"
            ]
          },
          "metadata": {
            "tags": []
          },
          "execution_count": 4
        }
      ]
    },
    {
      "cell_type": "code",
      "metadata": {
        "colab_type": "code",
        "id": "yAv9Eh7FMD8w",
        "colab": {}
      },
      "source": [
        "def getData(filename):\n",
        "    # images are 48x48\n",
        "    # N = 35887\n",
        "    Y = []\n",
        "    X = []\n",
        "    first = True\n",
        "    for line in open(filename):\n",
        "        if first:\n",
        "            first = False\n",
        "        else:\n",
        "            row = line.split(',')\n",
        "            Y.append(int(row[0]))\n",
        "            X.append([int(p) for p in row[1].split()])\n",
        "\n",
        "    X, Y = np.array(X) / 255.0, np.array(Y)\n",
        "    return X, Y"
      ],
      "execution_count": 0,
      "outputs": []
    },
    {
      "cell_type": "code",
      "metadata": {
        "colab_type": "code",
        "id": "9L9-XCS-MEIE",
        "outputId": "fdff0632-f327-423d-b6fa-6e6fbad70d46",
        "colab": {
          "base_uri": "https://localhost:8080/",
          "height": 35
        }
      },
      "source": [
        "X, Y = getData(filename)\n",
        "num_class = len(set(Y))\n",
        "print(num_class)"
      ],
      "execution_count": 6,
      "outputs": [
        {
          "output_type": "stream",
          "text": [
            "7\n"
          ],
          "name": "stdout"
        }
      ]
    },
    {
      "cell_type": "code",
      "metadata": {
        "colab_type": "code",
        "id": "Ze6XyhDxMESR",
        "colab": {}
      },
      "source": [
        "# keras with tensorflow backend\n",
        "N, D = X.shape\n",
        "X = X.reshape(N, 48, 48, 1)"
      ],
      "execution_count": 0,
      "outputs": []
    },
    {
      "cell_type": "code",
      "metadata": {
        "colab_type": "code",
        "id": "BvN2z4-tK2TZ",
        "colab": {}
      },
      "source": [
        "from sklearn.model_selection import train_test_split\n",
        "\n",
        "X_train, X_test, y_train, y_test = train_test_split(X, Y, test_size=0.1, random_state=0)\n",
        "y_train = (np.arange(num_class) == y_train[:, None]).astype(np.float32)\n",
        "y_test = (np.arange(num_class) == y_test[:, None]).astype(np.float32)"
      ],
      "execution_count": 0,
      "outputs": []
    },
    {
      "cell_type": "markdown",
      "metadata": {
        "colab_type": "text",
        "id": "jEIQxqqP2P9B"
      },
      "source": [
        "## 3. Build the network"
      ]
    },
    {
      "cell_type": "code",
      "metadata": {
        "colab_type": "code",
        "id": "ZrFLpUxcQVyg",
        "outputId": "a68ebd0c-d437-497a-9441-18c2389d0b0e",
        "colab": {
          "base_uri": "https://localhost:8080/",
          "height": 35
        }
      },
      "source": [
        "from keras.models import Sequential\n",
        "from keras.layers import Dense , Activation , Dropout ,Flatten\n",
        "from keras.layers.convolutional import Conv2D\n",
        "from keras.layers.convolutional import MaxPooling2D\n",
        "from keras.metrics import categorical_accuracy\n",
        "from keras.models import model_from_json\n",
        "from keras.callbacks import ModelCheckpoint\n",
        "from keras.optimizers import *\n",
        "from keras.layers.normalization import BatchNormalization"
      ],
      "execution_count": 9,
      "outputs": [
        {
          "output_type": "stream",
          "text": [
            "Using TensorFlow backend.\n"
          ],
          "name": "stderr"
        }
      ]
    },
    {
      "cell_type": "markdown",
      "metadata": {
        "id": "Ahq4ibEJFhTp",
        "colab_type": "text"
      },
      "source": [
        "### LeNet-5 layers\n",
        "- Convolution #1. Input = 32x32x1. Output = 28x28x6 conv2d\n",
        "- SubSampling #1. Input = 28x28x6. Output = 14x14x6. SubSampling is simply - Average Pooling so we use avg_pool\n",
        "- Convolution #2. Input = 14x14x6. Output = 10x10x16 conv2d\n",
        "- SubSampling #2. Input = 10x10x16. Output = 5x5x16 avg_pool\n",
        "- Fully Connected #1. Input = 5x5x16. Output = 120\n",
        "- Fully Connected #2. Input = 120. Output = 84\n",
        "- Output 10\n",
        "\n",
        "Ref:https://medium.com/@mgazar/lenet-5-in-9-lines-of-code-using-keras-ac99294c8086\n",
        "\n",
        "https://github.com/TaavishThaman/LeNet-5-with-Keras/blob/master/lenet_5.py"
      ]
    },
    {
      "cell_type": "code",
      "metadata": {
        "colab_type": "code",
        "id": "_FNb1l5pQXGZ",
        "outputId": "1a82b2f0-5012-4c3c-ae3a-79d49c9df0f7",
        "colab": {
          "base_uri": "https://localhost:8080/",
          "height": 675
        }
      },
      "source": [
        "def my_model():\n",
        "\n",
        "    model = Sequential()\n",
        "    #Layer 1\n",
        "    #Conv Layer 1\n",
        "    model.add(Conv2D(filters = 6, \n",
        "                 kernel_size = 5, \n",
        "                 strides = 1, \n",
        "                 activation = 'relu', \n",
        "                 input_shape = (48,48,1)))\n",
        "    #Pooling layer 1\n",
        "    model.add(MaxPooling2D(pool_size = 2, strides = 2))\n",
        "    #Layer 2\n",
        "    #Conv Layer 2\n",
        "    model.add(Conv2D(filters = 16,\n",
        "                     kernel_size = 5,\n",
        "                     strides = 1,\n",
        "                     activation = 'relu',\n",
        "                     input_shape = (14,14,6)))\n",
        "    #Pooling Layer 2\n",
        "    model.add(MaxPooling2D(pool_size = 2, strides = 2))\n",
        "    #Flatten\n",
        "    model.add(Flatten())\n",
        "    #Layer 3\n",
        "    #Fully connected layer 1\n",
        "    model.add(Dense(units = 120, activation = 'relu'))\n",
        "    #Layer 4\n",
        "    #Fully connected layer 2\n",
        "    model.add(Dense(units = 84, activation = 'relu'))\n",
        "    #Layer 5\n",
        "    #Output Layer\n",
        "    model.add(Dense(units = 7, activation = 'softmax'))\n",
        "    \n",
        "    model.compile(loss='categorical_crossentropy', metrics=['accuracy'],optimizer='adam')\n",
        "    \n",
        "    return model\n",
        "model=my_model()\n",
        "model.summary()"
      ],
      "execution_count": 10,
      "outputs": [
        {
          "output_type": "stream",
          "text": [
            "WARNING:tensorflow:From /usr/local/lib/python3.6/dist-packages/keras/backend/tensorflow_backend.py:66: The name tf.get_default_graph is deprecated. Please use tf.compat.v1.get_default_graph instead.\n",
            "\n",
            "WARNING:tensorflow:From /usr/local/lib/python3.6/dist-packages/keras/backend/tensorflow_backend.py:541: The name tf.placeholder is deprecated. Please use tf.compat.v1.placeholder instead.\n",
            "\n",
            "WARNING:tensorflow:From /usr/local/lib/python3.6/dist-packages/keras/backend/tensorflow_backend.py:4432: The name tf.random_uniform is deprecated. Please use tf.random.uniform instead.\n",
            "\n",
            "WARNING:tensorflow:From /usr/local/lib/python3.6/dist-packages/keras/backend/tensorflow_backend.py:4267: The name tf.nn.max_pool is deprecated. Please use tf.nn.max_pool2d instead.\n",
            "\n",
            "WARNING:tensorflow:From /usr/local/lib/python3.6/dist-packages/keras/optimizers.py:793: The name tf.train.Optimizer is deprecated. Please use tf.compat.v1.train.Optimizer instead.\n",
            "\n",
            "WARNING:tensorflow:From /usr/local/lib/python3.6/dist-packages/keras/backend/tensorflow_backend.py:3576: The name tf.log is deprecated. Please use tf.math.log instead.\n",
            "\n",
            "Model: \"sequential_1\"\n",
            "_________________________________________________________________\n",
            "Layer (type)                 Output Shape              Param #   \n",
            "=================================================================\n",
            "conv2d_1 (Conv2D)            (None, 44, 44, 6)         156       \n",
            "_________________________________________________________________\n",
            "max_pooling2d_1 (MaxPooling2 (None, 22, 22, 6)         0         \n",
            "_________________________________________________________________\n",
            "conv2d_2 (Conv2D)            (None, 18, 18, 16)        2416      \n",
            "_________________________________________________________________\n",
            "max_pooling2d_2 (MaxPooling2 (None, 9, 9, 16)          0         \n",
            "_________________________________________________________________\n",
            "flatten_1 (Flatten)          (None, 1296)              0         \n",
            "_________________________________________________________________\n",
            "dense_1 (Dense)              (None, 120)               155640    \n",
            "_________________________________________________________________\n",
            "dense_2 (Dense)              (None, 84)                10164     \n",
            "_________________________________________________________________\n",
            "dense_3 (Dense)              (None, 7)                 595       \n",
            "=================================================================\n",
            "Total params: 168,971\n",
            "Trainable params: 168,971\n",
            "Non-trainable params: 0\n",
            "_________________________________________________________________\n"
          ],
          "name": "stdout"
        }
      ]
    },
    {
      "cell_type": "code",
      "metadata": {
        "colab_type": "code",
        "id": "xt3hE9WAQe_o",
        "outputId": "284bf7c4-3efc-40fb-8f78-0817f5a14962",
        "colab": {
          "base_uri": "https://localhost:8080/",
          "height": 1000
        }
      },
      "source": [
        "path_model='model_filter.h5' # save model at this location after each epoch\n",
        "K.tensorflow_backend.clear_session() # destroys the current graph and builds a new one\n",
        "model=my_model() # create the model\n",
        "K.set_value(model.optimizer.lr,1e-4) # set the learning rate\n",
        "# fit the model\n",
        "history =model.fit(x=X_train,     \n",
        "            y=y_train, \n",
        "            epochs=50, \n",
        "            verbose=1, \n",
        "            validation_data=(X_test,y_test),\n",
        "            shuffle=True,\n",
        "            callbacks=[\n",
        "                ModelCheckpoint(filepath=path_model),\n",
        "            ]\n",
        "            )"
      ],
      "execution_count": 30,
      "outputs": [
        {
          "output_type": "stream",
          "text": [
            "Train on 32298 samples, validate on 3589 samples\n",
            "Epoch 1/50\n",
            "32298/32298 [==============================] - 6s 184us/step - loss: 1.7712 - acc: 0.2782 - val_loss: 1.6766 - val_acc: 0.3644\n",
            "Epoch 2/50\n",
            "32298/32298 [==============================] - 6s 170us/step - loss: 1.6357 - acc: 0.3696 - val_loss: 1.5991 - val_acc: 0.4085\n",
            "Epoch 3/50\n",
            "32298/32298 [==============================] - 6s 171us/step - loss: 1.5747 - acc: 0.3993 - val_loss: 1.5441 - val_acc: 0.4185\n",
            "Epoch 4/50\n",
            "32298/32298 [==============================] - 6s 178us/step - loss: 1.5319 - acc: 0.4151 - val_loss: 1.5154 - val_acc: 0.4335\n",
            "Epoch 5/50\n",
            "32298/32298 [==============================] - 6s 170us/step - loss: 1.4968 - acc: 0.4278 - val_loss: 1.4876 - val_acc: 0.4422\n",
            "Epoch 6/50\n",
            "32298/32298 [==============================] - 5s 166us/step - loss: 1.4659 - acc: 0.4402 - val_loss: 1.4813 - val_acc: 0.4397\n",
            "Epoch 7/50\n",
            "32298/32298 [==============================] - 5s 166us/step - loss: 1.4357 - acc: 0.4506 - val_loss: 1.4373 - val_acc: 0.4508\n",
            "Epoch 8/50\n",
            "32298/32298 [==============================] - 5s 164us/step - loss: 1.4097 - acc: 0.4614 - val_loss: 1.4217 - val_acc: 0.4561\n",
            "Epoch 9/50\n",
            "32298/32298 [==============================] - 5s 167us/step - loss: 1.3849 - acc: 0.4723 - val_loss: 1.3968 - val_acc: 0.4714\n",
            "Epoch 10/50\n",
            "32298/32298 [==============================] - 5s 167us/step - loss: 1.3626 - acc: 0.4796 - val_loss: 1.3840 - val_acc: 0.4734\n",
            "Epoch 11/50\n",
            "32298/32298 [==============================] - 5s 164us/step - loss: 1.3400 - acc: 0.4900 - val_loss: 1.3721 - val_acc: 0.4778\n",
            "Epoch 12/50\n",
            "32298/32298 [==============================] - 5s 165us/step - loss: 1.3193 - acc: 0.4999 - val_loss: 1.3552 - val_acc: 0.4834\n",
            "Epoch 13/50\n",
            "32298/32298 [==============================] - 5s 169us/step - loss: 1.2972 - acc: 0.5097 - val_loss: 1.3540 - val_acc: 0.4851\n",
            "Epoch 14/50\n",
            "32298/32298 [==============================] - 5s 165us/step - loss: 1.2774 - acc: 0.5195 - val_loss: 1.3418 - val_acc: 0.4901\n",
            "Epoch 15/50\n",
            "32298/32298 [==============================] - 5s 167us/step - loss: 1.2584 - acc: 0.5267 - val_loss: 1.3291 - val_acc: 0.4971\n",
            "Epoch 16/50\n",
            "32298/32298 [==============================] - 5s 169us/step - loss: 1.2397 - acc: 0.5344 - val_loss: 1.3243 - val_acc: 0.4948\n",
            "Epoch 17/50\n",
            "32298/32298 [==============================] - 5s 165us/step - loss: 1.2223 - acc: 0.5428 - val_loss: 1.3374 - val_acc: 0.4979\n",
            "Epoch 18/50\n",
            "32298/32298 [==============================] - 5s 165us/step - loss: 1.2053 - acc: 0.5498 - val_loss: 1.3091 - val_acc: 0.5107\n",
            "Epoch 19/50\n",
            "32298/32298 [==============================] - 5s 165us/step - loss: 1.1866 - acc: 0.5571 - val_loss: 1.3154 - val_acc: 0.5091\n",
            "Epoch 20/50\n",
            "32298/32298 [==============================] - 5s 167us/step - loss: 1.1695 - acc: 0.5654 - val_loss: 1.3105 - val_acc: 0.5052\n",
            "Epoch 21/50\n",
            "32298/32298 [==============================] - 6s 175us/step - loss: 1.1538 - acc: 0.5705 - val_loss: 1.3115 - val_acc: 0.5079\n",
            "Epoch 22/50\n",
            "32298/32298 [==============================] - 5s 162us/step - loss: 1.1379 - acc: 0.5776 - val_loss: 1.3051 - val_acc: 0.5141\n",
            "Epoch 23/50\n",
            "32298/32298 [==============================] - 5s 161us/step - loss: 1.1216 - acc: 0.5842 - val_loss: 1.3129 - val_acc: 0.5121\n",
            "Epoch 24/50\n",
            "32298/32298 [==============================] - 5s 166us/step - loss: 1.1058 - acc: 0.5889 - val_loss: 1.3132 - val_acc: 0.5183\n",
            "Epoch 25/50\n",
            "32298/32298 [==============================] - 5s 165us/step - loss: 1.0899 - acc: 0.5964 - val_loss: 1.3258 - val_acc: 0.5077\n",
            "Epoch 26/50\n",
            "32298/32298 [==============================] - 5s 163us/step - loss: 1.0736 - acc: 0.6007 - val_loss: 1.3075 - val_acc: 0.5088\n",
            "Epoch 27/50\n",
            "32298/32298 [==============================] - 5s 165us/step - loss: 1.0582 - acc: 0.6102 - val_loss: 1.3169 - val_acc: 0.5188\n",
            "Epoch 28/50\n",
            "32298/32298 [==============================] - 5s 165us/step - loss: 1.0412 - acc: 0.6174 - val_loss: 1.3221 - val_acc: 0.5171\n",
            "Epoch 29/50\n",
            "32298/32298 [==============================] - 5s 165us/step - loss: 1.0247 - acc: 0.6246 - val_loss: 1.3216 - val_acc: 0.5146\n",
            "Epoch 30/50\n",
            "32298/32298 [==============================] - 5s 163us/step - loss: 1.0110 - acc: 0.6314 - val_loss: 1.3236 - val_acc: 0.5143\n",
            "Epoch 31/50\n",
            "32298/32298 [==============================] - 5s 169us/step - loss: 0.9963 - acc: 0.6376 - val_loss: 1.3202 - val_acc: 0.5052\n",
            "Epoch 32/50\n",
            "32298/32298 [==============================] - 5s 167us/step - loss: 0.9780 - acc: 0.6427 - val_loss: 1.3576 - val_acc: 0.4943\n",
            "Epoch 33/50\n",
            "32298/32298 [==============================] - 5s 165us/step - loss: 0.9682 - acc: 0.6468 - val_loss: 1.3490 - val_acc: 0.5121\n",
            "Epoch 34/50\n",
            "32298/32298 [==============================] - 5s 164us/step - loss: 0.9501 - acc: 0.6548 - val_loss: 1.3484 - val_acc: 0.5124\n",
            "Epoch 35/50\n",
            "32298/32298 [==============================] - 5s 170us/step - loss: 0.9359 - acc: 0.6600 - val_loss: 1.3643 - val_acc: 0.5152\n",
            "Epoch 36/50\n",
            "32298/32298 [==============================] - 5s 165us/step - loss: 0.9201 - acc: 0.6670 - val_loss: 1.3554 - val_acc: 0.5166\n",
            "Epoch 37/50\n",
            "32298/32298 [==============================] - 5s 163us/step - loss: 0.9044 - acc: 0.6737 - val_loss: 1.3800 - val_acc: 0.4990\n",
            "Epoch 38/50\n",
            "32298/32298 [==============================] - 5s 166us/step - loss: 0.8919 - acc: 0.6772 - val_loss: 1.3726 - val_acc: 0.5127\n",
            "Epoch 39/50\n",
            "32298/32298 [==============================] - 5s 163us/step - loss: 0.8777 - acc: 0.6808 - val_loss: 1.3897 - val_acc: 0.5032\n",
            "Epoch 40/50\n",
            "32298/32298 [==============================] - 5s 164us/step - loss: 0.8609 - acc: 0.6897 - val_loss: 1.3961 - val_acc: 0.5138\n",
            "Epoch 41/50\n",
            "32298/32298 [==============================] - 5s 163us/step - loss: 0.8447 - acc: 0.6944 - val_loss: 1.4005 - val_acc: 0.5183\n",
            "Epoch 42/50\n",
            "32298/32298 [==============================] - 5s 166us/step - loss: 0.8330 - acc: 0.7004 - val_loss: 1.4106 - val_acc: 0.5180\n",
            "Epoch 43/50\n",
            "32298/32298 [==============================] - 5s 166us/step - loss: 0.8161 - acc: 0.7061 - val_loss: 1.4598 - val_acc: 0.5160\n",
            "Epoch 44/50\n",
            "32298/32298 [==============================] - 5s 164us/step - loss: 0.8038 - acc: 0.7133 - val_loss: 1.4374 - val_acc: 0.5138\n",
            "Epoch 45/50\n",
            "32298/32298 [==============================] - 5s 165us/step - loss: 0.7878 - acc: 0.7173 - val_loss: 1.4496 - val_acc: 0.5091\n",
            "Epoch 46/50\n",
            "32298/32298 [==============================] - 5s 166us/step - loss: 0.7730 - acc: 0.7235 - val_loss: 1.4609 - val_acc: 0.5124\n",
            "Epoch 47/50\n",
            "32298/32298 [==============================] - 5s 168us/step - loss: 0.7580 - acc: 0.7306 - val_loss: 1.5074 - val_acc: 0.5054\n",
            "Epoch 48/50\n",
            "32298/32298 [==============================] - 5s 167us/step - loss: 0.7465 - acc: 0.7346 - val_loss: 1.5017 - val_acc: 0.5035\n",
            "Epoch 49/50\n",
            "32298/32298 [==============================] - 5s 165us/step - loss: 0.7302 - acc: 0.7400 - val_loss: 1.5100 - val_acc: 0.5135\n",
            "Epoch 50/50\n",
            "32298/32298 [==============================] - 5s 165us/step - loss: 0.7149 - acc: 0.7473 - val_loss: 1.5385 - val_acc: 0.5063\n"
          ],
          "name": "stdout"
        }
      ]
    },
    {
      "cell_type": "code",
      "metadata": {
        "colab_type": "code",
        "id": "U50LJRYfOBCV",
        "outputId": "a0b7d6e0-a307-4c6c-d496-6ca6a92c8d21",
        "colab": {
          "base_uri": "https://localhost:8080/",
          "height": 444
        }
      },
      "source": [
        "''' Visualize the training/validation loss and training/validation accuracy'''\n",
        "from pylab import rcParams\n",
        "\n",
        "rcParams['figure.figsize'] = 10, 7\n",
        "\n",
        "loss = history.history.get('loss')\n",
        "val_loss = history.history.get('val_loss')\n",
        "\n",
        "acc = history.history.get('acc')\n",
        "val_acc = history.history.get('val_acc')\n",
        "    \n",
        "plt.figure(0)\n",
        "\n",
        "plt.subplot(121)\n",
        "\n",
        "plt.plot(range(len(loss)), loss, label='Training Loss')\n",
        "plt.plot(range(len(val_loss)), val_loss, label='Validation Loss')\n",
        "plt.legend(loc='upper left')\n",
        "plt.title('Loss')\n",
        "\n",
        "\n",
        "plt.subplot(122)\n",
        "plt.plot(range(len(acc)), acc, label='Training Accuracy')\n",
        "plt.plot(range(len(val_acc)), val_acc, label='Validation Accuracy')\n",
        "plt.legend(loc='upper left')\n",
        "plt.title('Accuracy')\n",
        "\n",
        "plt.show()"
      ],
      "execution_count": 31,
      "outputs": [
        {
          "output_type": "display_data",
          "data": {
            "image/png": "[encoded data removed]",
            "text/plain": [
              "<Figure size 720x504 with 2 Axes>"
            ]
          },
          "metadata": {
            "tags": []
          }
        }
      ]
    },
    {
      "cell_type": "code",
      "metadata": {
        "colab_type": "code",
        "id": "TLctYbV_UNn7",
        "colab": {}
      },
      "source": [
        "# Save model weight\n",
        "model.save_weights('model_weights_LeNet5-_lr1-e4.h5') # HDF5 file"
      ],
      "execution_count": 0,
      "outputs": []
    },
    {
      "cell_type": "code",
      "metadata": {
        "colab_type": "code",
        "id": "tNWQfBoyK25V",
        "colab": {}
      },
      "source": [
        "model.save('./model_LeNet5-_lr1-e4.t')"
      ],
      "execution_count": 0,
      "outputs": []
    }
  ]
}